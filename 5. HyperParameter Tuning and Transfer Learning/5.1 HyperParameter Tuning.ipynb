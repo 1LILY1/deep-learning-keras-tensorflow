{
 "cells": [
  {
   "cell_type": "markdown",
   "metadata": {},
   "source": [
    "# HyperParameter Tuning"
   ]
  },
  {
   "cell_type": "markdown",
   "metadata": {},
   "source": [
    "### `keras.wrappers.scikit_learn`\n",
    "\n",
    "Example adapted from: [https://github.com/fchollet/keras/blob/master/examples/mnist_sklearn_wrapper.py]()"
   ]
  },
  {
   "cell_type": "markdown",
   "metadata": {},
   "source": [
    "## Problem: \n",
    "Builds simple CNN models on MNIST and uses sklearn's GridSearchCV to find best model"
   ]
  },
  {
   "cell_type": "code",
   "execution_count": 1,
   "metadata": {},
   "outputs": [],
   "source": [
    "import numpy as np\n",
    "np.random.seed(1337)  # for reproducibility"
   ]
  },
  {
   "cell_type": "code",
   "execution_count": 2,
   "metadata": {},
   "outputs": [
    {
     "name": "stderr",
     "output_type": "stream",
     "text": [
      "Using TensorFlow backend.\n"
     ]
    }
   ],
   "source": [
    "from keras.datasets import mnist\n",
    "from keras.models import Sequential\n",
    "from keras.layers import Dense, Dropout, Activation, Flatten\n",
    "from keras.layers import Conv2D, MaxPooling2D\n",
    "from keras.utils import np_utils\n",
    "from keras.wrappers.scikit_learn import KerasClassifier\n",
    "from keras import backend as K"
   ]
  },
  {
   "cell_type": "code",
   "execution_count": 3,
   "metadata": {},
   "outputs": [],
   "source": [
    "from sklearn.model_selection import GridSearchCV"
   ]
  },
  {
   "cell_type": "markdown",
   "metadata": {},
   "source": [
    "# Data Preparation"
   ]
  },
  {
   "cell_type": "code",
   "execution_count": 4,
   "metadata": {},
   "outputs": [],
   "source": [
    "nb_classes = 10\n",
    "\n",
    "# input image dimensions\n",
    "img_rows, img_cols = 28, 28"
   ]
  },
  {
   "cell_type": "code",
   "execution_count": 5,
   "metadata": {},
   "outputs": [
    {
     "name": "stdout",
     "output_type": "stream",
     "text": [
      "Downloading data from https://s3.amazonaws.com/img-datasets/mnist.npz\n",
      "11493376/11490434 [==============================] - 3s 0us/step\n"
     ]
    }
   ],
   "source": [
    "# load training data and do basic data normalization\n",
    "(X_train, y_train), (X_test, y_test) = mnist.load_data()\n",
    "\n",
    "if K.image_dim_ordering() == 'th':\n",
    "    X_train = X_train.reshape(X_train.shape[0], 1, img_rows, img_cols)\n",
    "    X_test = X_test.reshape(X_test.shape[0], 1, img_rows, img_cols)\n",
    "    input_shape = (1, img_rows, img_cols)\n",
    "else:\n",
    "    X_train = X_train.reshape(X_train.shape[0], img_rows, img_cols, 1)\n",
    "    X_test = X_test.reshape(X_test.shape[0], img_rows, img_cols, 1)\n",
    "    input_shape = (img_rows, img_cols, 1)"
   ]
  },
  {
   "cell_type": "code",
   "execution_count": 6,
   "metadata": {},
   "outputs": [],
   "source": [
    "X_train = X_train.astype('float32')\n",
    "X_test = X_test.astype('float32')\n",
    "X_train /= 255\n",
    "X_test /= 255\n",
    "\n",
    "# convert class vectors to binary class matrices\n",
    "y_train = np_utils.to_categorical(y_train, nb_classes)\n",
    "y_test = np_utils.to_categorical(y_test, nb_classes)"
   ]
  },
  {
   "cell_type": "markdown",
   "metadata": {},
   "source": [
    "## Build Model"
   ]
  },
  {
   "cell_type": "code",
   "execution_count": 7,
   "metadata": {},
   "outputs": [],
   "source": [
    "def make_model(dense_layer_sizes, filters, kernel_size, pool_size):\n",
    "    '''Creates model comprised of 2 convolutional layers followed by dense layers\n",
    "\n",
    "    dense_layer_sizes: List of layer sizes. This list has one number for each layer\n",
    "    nb_filters: Number of convolutional filters in each convolutional layer\n",
    "    nb_conv: Convolutional kernel size\n",
    "    nb_pool: Size of pooling area for max pooling\n",
    "    '''\n",
    "\n",
    "    model = Sequential()\n",
    "\n",
    "    model.add(Conv2D(filters, (kernel_size, kernel_size),\n",
    "                     padding='valid', input_shape=input_shape))\n",
    "    model.add(Activation('relu'))\n",
    "    model.add(Conv2D(filters, (kernel_size, kernel_size)))\n",
    "    model.add(Activation('relu'))\n",
    "    model.add(MaxPooling2D(pool_size=(pool_size, pool_size)))\n",
    "    model.add(Dropout(0.25))\n",
    "\n",
    "    model.add(Flatten())\n",
    "    for layer_size in dense_layer_sizes:\n",
    "        model.add(Dense(layer_size))\n",
    "        model.add(Activation('relu'))\n",
    "    model.add(Dropout(0.5))\n",
    "    model.add(Dense(nb_classes))\n",
    "    model.add(Activation('softmax'))\n",
    "\n",
    "    model.compile(loss='categorical_crossentropy',\n",
    "                  optimizer='adadelta',\n",
    "                  metrics=['accuracy'])\n",
    "\n",
    "    return model"
   ]
  },
  {
   "cell_type": "code",
   "execution_count": 8,
   "metadata": {},
   "outputs": [],
   "source": [
    "dense_size_candidates = [[32], [64], [32, 32], [64, 64]]\n",
    "my_classifier = KerasClassifier(make_model, batch_size=32)"
   ]
  },
  {
   "cell_type": "markdown",
   "metadata": {},
   "source": [
    "## GridSearch HyperParameters"
   ]
  },
  {
   "cell_type": "code",
   "execution_count": 9,
   "metadata": {
    "scrolled": true
   },
   "outputs": [
    {
     "name": "stderr",
     "output_type": "stream",
     "text": [
      "/Users/valerio/anaconda3/envs/dl-keras-tf/lib/python3.6/site-packages/sklearn/model_selection/_split.py:1943: FutureWarning: You should specify a value for 'cv' instead of relying on the default value. The default value will change from 3 to 5 in version 0.22.\n",
      "  warnings.warn(CV_WARNING, FutureWarning)\n"
     ]
    },
    {
     "name": "stdout",
     "output_type": "stream",
     "text": [
      "Epoch 1/3\n",
      "40000/40000 [==============================] - 20s 500us/step - loss: 0.6223 - acc: 0.7957\n",
      "Epoch 2/3\n",
      "40000/40000 [==============================] - 20s 493us/step - loss: 0.3574 - acc: 0.8888\n",
      "Epoch 3/3\n",
      "40000/40000 [==============================] - 22s 557us/step - loss: 0.2970 - acc: 0.9080\n",
      "Epoch 1/3\n",
      "40000/40000 [==============================] - 20s 491us/step - loss: 0.6444 - acc: 0.7862\n",
      "Epoch 2/3\n",
      "40000/40000 [==============================] - 21s 534us/step - loss: 0.3627 - acc: 0.8850\n",
      "Epoch 3/3\n",
      "40000/40000 [==============================] - 22s 541us/step - loss: 0.3117 - acc: 0.9000\n",
      "Epoch 1/3\n",
      "40000/40000 [==============================] - 23s 564us/step - loss: 0.6102 - acc: 0.8000\n",
      "Epoch 2/3\n",
      "40000/40000 [==============================] - 21s 514us/step - loss: 0.3535 - acc: 0.8902\n",
      "Epoch 3/3\n",
      "40000/40000 [==============================] - 22s 547us/step - loss: 0.2916 - acc: 0.9081\n",
      "Epoch 1/6\n",
      "40000/40000 [==============================] - 26s 658us/step - loss: 0.6897 - acc: 0.7671\n",
      "Epoch 2/6\n",
      "40000/40000 [==============================] - 27s 679us/step - loss: 0.3827 - acc: 0.8799\n",
      "Epoch 3/6\n",
      "40000/40000 [==============================] - 36s 903us/step - loss: 0.3200 - acc: 0.8990\n",
      "Epoch 4/6\n",
      "40000/40000 [==============================] - 39s 976us/step - loss: 0.2878 - acc: 0.9118\n",
      "Epoch 5/6\n",
      "40000/40000 [==============================] - 32s 805us/step - loss: 0.2677 - acc: 0.9185\n",
      "Epoch 6/6\n",
      "40000/40000 [==============================] - 35s 865us/step - loss: 0.2445 - acc: 0.9259\n",
      "Epoch 1/6\n",
      "40000/40000 [==============================] - 31s 765us/step - loss: 0.6707 - acc: 0.7791\n",
      "Epoch 2/6\n",
      "40000/40000 [==============================] - 31s 784us/step - loss: 0.3989 - acc: 0.8745\n",
      "Epoch 3/6\n",
      "40000/40000 [==============================] - 27s 675us/step - loss: 0.3356 - acc: 0.8964\n",
      "Epoch 4/6\n",
      "40000/40000 [==============================] - 20s 505us/step - loss: 0.3029 - acc: 0.9069\n",
      "Epoch 5/6\n",
      "40000/40000 [==============================] - 19s 468us/step - loss: 0.2768 - acc: 0.9154\n",
      "Epoch 6/6\n",
      "40000/40000 [==============================] - 18s 456us/step - loss: 0.2606 - acc: 0.9208\n",
      "Epoch 1/6\n",
      "40000/40000 [==============================] - 19s 471us/step - loss: 0.5943 - acc: 0.8089\n",
      "Epoch 2/6\n",
      "40000/40000 [==============================] - 19s 463us/step - loss: 0.3447 - acc: 0.8932\n",
      "Epoch 3/6\n",
      "40000/40000 [==============================] - 18s 454us/step - loss: 0.2926 - acc: 0.9097\n",
      "Epoch 4/6\n",
      "40000/40000 [==============================] - 18s 452us/step - loss: 0.2611 - acc: 0.9193\n",
      "Epoch 5/6\n",
      "40000/40000 [==============================] - 18s 453us/step - loss: 0.2432 - acc: 0.9252\n",
      "Epoch 6/6\n",
      "40000/40000 [==============================] - 18s 453us/step - loss: 0.2343 - acc: 0.9292\n",
      "Epoch 1/3\n",
      "40000/40000 [==============================] - 21s 528us/step - loss: 0.5247 - acc: 0.8353\n",
      "Epoch 2/3\n",
      "40000/40000 [==============================] - 21s 519us/step - loss: 0.2541 - acc: 0.9244\n",
      "Epoch 3/3\n",
      "40000/40000 [==============================] - 21s 518us/step - loss: 0.1899 - acc: 0.9428\n",
      "Epoch 1/3\n",
      "40000/40000 [==============================] - 21s 526us/step - loss: 0.4324 - acc: 0.8667\n",
      "Epoch 2/3\n",
      "40000/40000 [==============================] - 21s 513us/step - loss: 0.2186 - acc: 0.9346\n",
      "Epoch 3/3\n",
      "40000/40000 [==============================] - 21s 518us/step - loss: 0.1781 - acc: 0.9476\n",
      "Epoch 1/3\n",
      "40000/40000 [==============================] - 20s 503us/step - loss: 0.4404 - acc: 0.8621\n",
      "Epoch 2/3\n",
      "40000/40000 [==============================] - 20s 488us/step - loss: 0.2183 - acc: 0.9355\n",
      "Epoch 3/3\n",
      "40000/40000 [==============================] - 20s 492us/step - loss: 0.1742 - acc: 0.9482\n",
      "Epoch 1/6\n",
      "40000/40000 [==============================] - 20s 503us/step - loss: 0.4652 - acc: 0.8543\n",
      "Epoch 2/6\n",
      "40000/40000 [==============================] - 19s 473us/step - loss: 0.2270 - acc: 0.9334\n",
      "Epoch 3/6\n",
      "40000/40000 [==============================] - 20s 491us/step - loss: 0.1785 - acc: 0.9480\n",
      "Epoch 4/6\n",
      "40000/40000 [==============================] - 19s 481us/step - loss: 0.1593 - acc: 0.9542\n",
      "Epoch 5/6\n",
      "40000/40000 [==============================] - 19s 478us/step - loss: 0.1454 - acc: 0.9560\n",
      "Epoch 6/6\n",
      "40000/40000 [==============================] - 19s 480us/step - loss: 0.1385 - acc: 0.9594\n",
      "Epoch 1/6\n",
      "40000/40000 [==============================] - 23s 574us/step - loss: 0.4511 - acc: 0.8578\n",
      "Epoch 2/6\n",
      "40000/40000 [==============================] - 19s 472us/step - loss: 0.2172 - acc: 0.9353\n",
      "Epoch 3/6\n",
      "40000/40000 [==============================] - 19s 480us/step - loss: 0.1670 - acc: 0.9514\n",
      "Epoch 4/6\n",
      "40000/40000 [==============================] - 22s 538us/step - loss: 0.1517 - acc: 0.9563\n",
      "Epoch 5/6\n",
      "40000/40000 [==============================] - 28s 704us/step - loss: 0.1382 - acc: 0.9593\n",
      "Epoch 6/6\n",
      "40000/40000 [==============================] - 19s 466us/step - loss: 0.1279 - acc: 0.9632\n",
      "Epoch 1/6\n",
      "40000/40000 [==============================] - 25s 620us/step - loss: 0.4600 - acc: 0.8558\n",
      "Epoch 2/6\n",
      "40000/40000 [==============================] - 24s 589us/step - loss: 0.2276 - acc: 0.9317\n",
      "Epoch 3/6\n",
      "40000/40000 [==============================] - 22s 558us/step - loss: 0.1834 - acc: 0.9471\n",
      "Epoch 4/6\n",
      "40000/40000 [==============================] - 23s 570us/step - loss: 0.1537 - acc: 0.9550\n",
      "Epoch 5/6\n",
      "40000/40000 [==============================] - 20s 512us/step - loss: 0.1366 - acc: 0.9600\n",
      "Epoch 6/6\n",
      "40000/40000 [==============================] - 23s 563us/step - loss: 0.1268 - acc: 0.9628\n",
      "Epoch 1/3\n",
      "40000/40000 [==============================] - 22s 540us/step - loss: 0.6018 - acc: 0.8023\n",
      "Epoch 2/3\n",
      "40000/40000 [==============================] - 22s 549us/step - loss: 0.3250 - acc: 0.9013\n",
      "Epoch 3/3\n",
      "40000/40000 [==============================] - 23s 577us/step - loss: 0.2709 - acc: 0.9184\n",
      "Epoch 1/3\n",
      "40000/40000 [==============================] - 27s 664us/step - loss: 0.5774 - acc: 0.8154\n",
      "Epoch 2/3\n",
      "40000/40000 [==============================] - 22s 546us/step - loss: 0.2945 - acc: 0.9135\n",
      "Epoch 3/3\n",
      "40000/40000 [==============================] - 21s 523us/step - loss: 0.2342 - acc: 0.9327\n",
      "Epoch 1/3\n",
      "40000/40000 [==============================] - 23s 578us/step - loss: 0.5979 - acc: 0.8046\n",
      "Epoch 2/3\n",
      "40000/40000 [==============================] - 21s 534us/step - loss: 0.3320 - acc: 0.8960\n",
      "Epoch 3/3\n",
      "40000/40000 [==============================] - 21s 522us/step - loss: 0.2719 - acc: 0.9161\n",
      "Epoch 1/6\n",
      "40000/40000 [==============================] - 24s 595us/step - loss: 0.5781 - acc: 0.8099\n",
      "Epoch 2/6\n",
      "40000/40000 [==============================] - 21s 519us/step - loss: 0.2844 - acc: 0.9135\n",
      "Epoch 3/6\n",
      "40000/40000 [==============================] - 19s 487us/step - loss: 0.2303 - acc: 0.9318\n",
      "Epoch 4/6\n",
      "40000/40000 [==============================] - 20s 493us/step - loss: 0.2043 - acc: 0.9401\n",
      "Epoch 5/6\n",
      "40000/40000 [==============================] - 19s 485us/step - loss: 0.1808 - acc: 0.9474\n",
      "Epoch 6/6\n",
      "40000/40000 [==============================] - 20s 488us/step - loss: 0.1667 - acc: 0.9522\n",
      "Epoch 1/6\n",
      "40000/40000 [==============================] - 26s 657us/step - loss: 0.6732 - acc: 0.7872\n",
      "Epoch 2/6\n",
      "40000/40000 [==============================] - 21s 534us/step - loss: 0.3437 - acc: 0.9002\n",
      "Epoch 3/6\n",
      "40000/40000 [==============================] - 22s 562us/step - loss: 0.2732 - acc: 0.9208\n",
      "Epoch 4/6\n",
      "40000/40000 [==============================] - 23s 563us/step - loss: 0.2462 - acc: 0.9296\n",
      "Epoch 5/6\n",
      "40000/40000 [==============================] - 20s 511us/step - loss: 0.2218 - acc: 0.9370\n",
      "Epoch 6/6\n",
      "40000/40000 [==============================] - 20s 495us/step - loss: 0.2048 - acc: 0.9420\n",
      "Epoch 1/6\n",
      "40000/40000 [==============================] - 23s 569us/step - loss: 0.5960 - acc: 0.8100\n",
      "Epoch 2/6\n",
      "40000/40000 [==============================] - 22s 544us/step - loss: 0.2896 - acc: 0.9159\n",
      "Epoch 3/6\n",
      "40000/40000 [==============================] - 22s 548us/step - loss: 0.2286 - acc: 0.9339\n",
      "Epoch 4/6\n",
      "40000/40000 [==============================] - 20s 512us/step - loss: 0.1928 - acc: 0.9472\n",
      "Epoch 5/6\n",
      "40000/40000 [==============================] - 20s 512us/step - loss: 0.1685 - acc: 0.9535\n",
      "Epoch 6/6\n",
      "40000/40000 [==============================] - 20s 512us/step - loss: 0.1579 - acc: 0.9550\n",
      "Epoch 1/3\n"
     ]
    },
    {
     "name": "stdout",
     "output_type": "stream",
     "text": [
      "40000/40000 [==============================] - 24s 589us/step - loss: 0.3671 - acc: 0.8882\n",
      "Epoch 2/3\n",
      "40000/40000 [==============================] - 22s 543us/step - loss: 0.1551 - acc: 0.9580\n",
      "Epoch 3/3\n",
      "40000/40000 [==============================] - 20s 495us/step - loss: 0.1209 - acc: 0.9670\n",
      "Epoch 1/3\n",
      "40000/40000 [==============================] - 20s 501us/step - loss: 0.3823 - acc: 0.8829\n",
      "Epoch 2/3\n",
      "40000/40000 [==============================] - 19s 478us/step - loss: 0.1637 - acc: 0.9539\n",
      "Epoch 3/3\n",
      "40000/40000 [==============================] - 19s 468us/step - loss: 0.1253 - acc: 0.9663\n",
      "Epoch 1/3\n",
      "40000/40000 [==============================] - 21s 524us/step - loss: 0.3987 - acc: 0.8782\n",
      "Epoch 2/3\n",
      "40000/40000 [==============================] - 20s 499us/step - loss: 0.1716 - acc: 0.9535\n",
      "Epoch 3/3\n",
      "40000/40000 [==============================] - 20s 509us/step - loss: 0.1289 - acc: 0.9657\n",
      "Epoch 1/6\n",
      "40000/40000 [==============================] - 22s 549us/step - loss: 0.3834 - acc: 0.8851\n",
      "Epoch 2/6\n",
      "40000/40000 [==============================] - 21s 537us/step - loss: 0.1530 - acc: 0.9587\n",
      "Epoch 3/6\n",
      "40000/40000 [==============================] - 21s 521us/step - loss: 0.1218 - acc: 0.9674\n",
      "Epoch 4/6\n",
      "40000/40000 [==============================] - 21s 523us/step - loss: 0.1057 - acc: 0.9716\n",
      "Epoch 5/6\n",
      "40000/40000 [==============================] - 21s 526us/step - loss: 0.0903 - acc: 0.9757\n",
      "Epoch 6/6\n",
      "40000/40000 [==============================] - 21s 517us/step - loss: 0.0866 - acc: 0.9767\n",
      "Epoch 1/6\n",
      "40000/40000 [==============================] - 21s 527us/step - loss: 0.4078 - acc: 0.8766\n",
      "Epoch 2/6\n",
      "40000/40000 [==============================] - 20s 499us/step - loss: 0.1681 - acc: 0.9525\n",
      "Epoch 3/6\n",
      "40000/40000 [==============================] - 20s 502us/step - loss: 0.1308 - acc: 0.9637\n",
      "Epoch 4/6\n",
      "40000/40000 [==============================] - 583s 15ms/step - loss: 0.1095 - acc: 0.96985s - loss:\n",
      "Epoch 5/6\n",
      "40000/40000 [==============================] - 30s 757us/step - loss: 0.0965 - acc: 0.9747\n",
      "Epoch 6/6\n",
      "40000/40000 [==============================] - 25s 619us/step - loss: 0.0860 - acc: 0.9764\n",
      "Epoch 1/6\n",
      "40000/40000 [==============================] - 24s 594us/step - loss: 0.3858 - acc: 0.8834\n",
      "Epoch 2/6\n",
      "40000/40000 [==============================] - 20s 491us/step - loss: 0.1540 - acc: 0.9580\n",
      "Epoch 3/6\n",
      "40000/40000 [==============================] - 19s 486us/step - loss: 0.1180 - acc: 0.9680\n",
      "Epoch 4/6\n",
      "40000/40000 [==============================] - 20s 502us/step - loss: 0.0968 - acc: 0.9735\n",
      "Epoch 5/6\n",
      "40000/40000 [==============================] - 20s 490us/step - loss: 0.0895 - acc: 0.9758\n",
      "Epoch 6/6\n",
      "40000/40000 [==============================] - 20s 490us/step - loss: 0.0809 - acc: 0.9786\n",
      "Epoch 1/6\n",
      "60000/60000 [==============================] - 29s 482us/step - loss: 0.3092 - acc: 0.9072\n",
      "Epoch 2/6\n",
      "60000/60000 [==============================] - 27s 452us/step - loss: 0.1269 - acc: 0.9660\n",
      "Epoch 3/6\n",
      "60000/60000 [==============================] - 27s 453us/step - loss: 0.1015 - acc: 0.9738\n",
      "Epoch 4/6\n",
      "60000/60000 [==============================] - 27s 453us/step - loss: 0.0890 - acc: 0.9767\n",
      "Epoch 5/6\n",
      "60000/60000 [==============================] - 27s 451us/step - loss: 0.0807 - acc: 0.9788\n",
      "Epoch 6/6\n",
      "60000/60000 [==============================] - 27s 451us/step - loss: 0.0726 - acc: 0.9810\n"
     ]
    },
    {
     "data": {
      "text/plain": [
       "GridSearchCV(cv='warn', error_score='raise-deprecating',\n",
       "       estimator=<keras.wrappers.scikit_learn.KerasClassifier object at 0x11ea29828>,\n",
       "       fit_params=None, iid='warn', n_jobs=1,\n",
       "       param_grid={'dense_layer_sizes': [[32], [64], [32, 32], [64, 64]], 'epochs': [3, 6], 'filters': [8], 'kernel_size': [3], 'pool_size': [2]},\n",
       "       pre_dispatch='2*n_jobs', refit=True, return_train_score='warn',\n",
       "       scoring='neg_log_loss', verbose=0)"
      ]
     },
     "execution_count": 9,
     "metadata": {},
     "output_type": "execute_result"
    }
   ],
   "source": [
    "validator = GridSearchCV(my_classifier,\n",
    "                         param_grid={'dense_layer_sizes': dense_size_candidates,\n",
    "                                     # nb_epoch is avail for tuning even when not\n",
    "                                     # an argument to model building function\n",
    "                                     'epochs': [3, 6],\n",
    "                                     'filters': [8],\n",
    "                                     'kernel_size': [3],\n",
    "                                     'pool_size': [2]},\n",
    "                         scoring='neg_log_loss',\n",
    "                         n_jobs=1)\n",
    "validator.fit(X_train, y_train)"
   ]
  },
  {
   "cell_type": "code",
   "execution_count": 10,
   "metadata": {},
   "outputs": [
    {
     "name": "stdout",
     "output_type": "stream",
     "text": [
      "The parameters of the best model are: \n",
      "{'dense_layer_sizes': [64, 64], 'epochs': 6, 'filters': 8, 'kernel_size': 3, 'pool_size': 2}\n",
      "10000/10000 [==============================] - 2s 249us/step\n",
      "loss :  0.04074383126419634\n",
      "acc :  0.989\n"
     ]
    }
   ],
   "source": [
    "print('The parameters of the best model are: ')\n",
    "print(validator.best_params_)\n",
    "\n",
    "# validator.best_estimator_ returns sklearn-wrapped version of best model.\n",
    "# validator.best_estimator_.model returns the (unwrapped) keras model\n",
    "best_model = validator.best_estimator_.model\n",
    "metric_names = best_model.metrics_names\n",
    "metric_values = best_model.evaluate(X_test, y_test)\n",
    "for metric, value in zip(metric_names, metric_values):\n",
    "    print(metric, ': ', value)"
   ]
  },
  {
   "cell_type": "markdown",
   "metadata": {
    "collapsed": true
   },
   "source": [
    "---"
   ]
  },
  {
   "cell_type": "markdown",
   "metadata": {},
   "source": [
    "# There's more:\n",
    "\n",
    "The `GridSearchCV` model in scikit-learn performs a complete search, considering **all** the possible combinations of Hyper-parameters we want to optimise.\n",
    "\n",
    "If we want to apply for an optmised and bounded search in the hyper-parameter space, I strongly suggest to take a look at:\n",
    "\n",
    "* `Keras + hyperopt == hyperas`: [http://maxpumperla.github.io/hyperas/](http://maxpumperla.github.io/hyperas/)"
   ]
  }
 ],
 "metadata": {
  "kernelspec": {
   "display_name": "Python 3.6 (DL Keras TF)",
   "language": "python",
   "name": "dl-keras-tf"
  },
  "language_info": {
   "codemirror_mode": {
    "name": "ipython",
    "version": 3
   },
   "file_extension": ".py",
   "mimetype": "text/x-python",
   "name": "python",
   "nbconvert_exporter": "python",
   "pygments_lexer": "ipython3",
   "version": "3.6.6"
  }
 },
 "nbformat": 4,
 "nbformat_minor": 2
}
